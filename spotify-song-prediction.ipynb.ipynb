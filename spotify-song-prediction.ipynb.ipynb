import pandas as pd
import numpy as np
import joblib
from sklearn.model_selection import train_test_split
from sklearn.preprocessing import StandardScaler
from sklearn.ensemble import RandomForestClassifier
from sklearn.metrics import accuracy_score, classification_report

# Step 1: Load Dataset
df = pd.read_csv("/content/Spotify most streamed.csv")

# Step 2: Data Cleaning & Preprocessing
# Convert 'Streams' and 'Daily' columns to numeric by removing commas
df['Streams'] = df['Streams'].str.replace(',', '').astype(float)
df['Daily'] = df['Daily'].str.replace(',', '').astype(float)

# Split 'Artist and Title' into separate columns
df[['Artist', 'Title']] = df['Artist and Title'].str.split(' - ', n=1, expand=True)
df.drop(columns=['Artist and Title'], inplace=True)  # Remove original column

# 🔹 Retain artist & title for later use
df_cleaned = df.dropna().copy()

# 🔹 Store artist and title separately
df_cleaned = df_cleaned[['Artist', 'Title', 'Streams', 'Daily']]  # Keep necessary columns

# Step 3: Define Features and Target
X = df_cleaned[['Streams', 'Daily']]
y = df_cleaned['Streams'].apply(lambda x: 1 if x >= 500000000 else 0)  # Hit if >=500M streams

# Step 4: Train-Test Split
X_train, X_test, y_train, y_test = train_test_split(X, y, test_size=0.2, random_state=42)

# Step 5: Feature Scaling
scaler = StandardScaler()
X_train_scaled = scaler.fit_transform(X_train)
X_test_scaled = scaler.transform(X_test)

# Step 6: Train Model
model = RandomForestClassifier(n_estimators=100, random_state=42)
model.fit(X_train_scaled, y_train)

# Step 7: Evaluate Model
y_pred = model.predict(X_test_scaled)
print("Accuracy:", accuracy_score(y_test, y_pred))
print(classification_report(y_test, y_pred))

# Step 8: Save Model, Scaler & Data
joblib.dump(model, "song_popularity_model.pkl")
joblib.dump(scaler, "scaler.pkl")

# 🔹 Save Cleaned Data with Artist & Title for Streamlit App
df_cleaned.to_csv("spotify_cleaned.csv", index=False)
